{
  "nbformat": 4,
  "nbformat_minor": 0,
  "metadata": {
    "colab": {
      "provenance": []
    },
    "kernelspec": {
      "name": "python3",
      "display_name": "Python 3"
    },
    "language_info": {
      "name": "python"
    }
  },
  "cells": [
    {
      "cell_type": "code",
      "execution_count": 3,
      "metadata": {
        "colab": {
          "base_uri": "https://localhost:8080/"
        },
        "id": "Y98pkcQRKCv6",
        "outputId": "7ef4d67b-f1e1-4835-e35b-c5546b85e793"
      },
      "outputs": [
        {
          "output_type": "stream",
          "name": "stdout",
          "text": [
            "[-1.00000000e+00 -9.00000000e-01 -8.00000000e-01 -7.00000000e-01\n",
            " -6.00000000e-01 -5.00000000e-01 -4.00000000e-01 -3.00000000e-01\n",
            " -2.00000000e-01 -1.00000000e-01 -2.22044605e-16  1.00000000e-01\n",
            "  2.00000000e-01  3.00000000e-01  4.00000000e-01  5.00000000e-01\n",
            "  6.00000000e-01  7.00000000e-01  8.00000000e-01  9.00000000e-01\n",
            "  1.00000000e+00  1.10000000e+00  1.20000000e+00  1.30000000e+00\n",
            "  1.40000000e+00  1.50000000e+00  1.60000000e+00  1.70000000e+00\n",
            "  1.80000000e+00  1.90000000e+00  2.00000000e+00]\n",
            "#\n",
            "[-500 -490 -480 -470 -460 -450 -440 -430 -420 -410 -400 -390 -380 -370\n",
            " -360 -350 -340 -330 -320 -310 -300 -290 -280 -270 -260 -250 -240 -230\n",
            " -220 -210 -200 -190 -180 -170 -160 -150 -140 -130 -120 -110 -100  -90\n",
            "  -80  -70  -60  -50  -40  -30  -20  -10    0   10   20   30   40   50\n",
            "   60   70   80   90  100  110  120  130  140  150  160  170  180  190\n",
            "  200  210  220  230  240  250  260  270  280  290  300  310  320  330\n",
            "  340  350  360  370  380  390  400  410  420  430  440  450  460  470\n",
            "  480  490  500]\n"
          ]
        }
      ],
      "source": [
        "import numpy as np\n",
        "\n",
        "superficies = [90, 340, 800, 80, 1200, 150, 230, 320, 500, 180, 600]\n",
        "precios = [120, 350, 600, 115, 1200, 90, 200, 270, 350, 150, 590]\n",
        "\n",
        "# Datos de la línea recta deseada: y = m * x + b\n",
        "m_deseado = 0 #theta1\n",
        "b_deseado = 0 #theta0\n",
        "\n",
        "# Rangos para los coeficientes\n",
        "rango_m = np.arange(-1, 2.1, 0.1)  # Rango para el término independiente (b)\n",
        "rango_b = np.arange(-500, 501, 10)  # Rango para el coeficiente de x (m)\n",
        "\n",
        "print(rango_m)\n",
        "print(\"#\")\n",
        "print(rango_b)"
      ]
    },
    {
      "cell_type": "code",
      "source": [
        "mejor_error = float('inf')\n",
        "mejor_m = None\n",
        "mejor_b = None\n",
        "\n",
        "# Bucle para probar diferentes combinaciones de coeficientes\n",
        "for b in rango_b:\n",
        "    for m in rango_m:\n",
        "        error_acumulado = 0\n",
        "        for indice, x in enumerate(superficies):\n",
        "\n",
        "          # Calcular valores de y predichos por la ecuación\n",
        "          y_pred = m * x + b\n",
        "\n",
        "          error_actual = y_pred - precios[indice]\n",
        "          # print(x, precios[indice])\n",
        "\n",
        "          error_acumulado = error_acumulado + abs(error_actual)\n",
        "\n",
        "        # Actualizar los mejores coeficientes si encontramos un mejor ajuste\n",
        "        if error_acumulado < mejor_error:\n",
        "            mejor_error = error_acumulado\n",
        "            mejor_m = m\n",
        "            mejor_b = b\n",
        "\n",
        "print(\"Coeficiente de x (m) más cercano:\", mejor_m)\n",
        "print(\"Término independiente (b) más cercano:\", mejor_b)\n"
      ],
      "metadata": {
        "colab": {
          "base_uri": "https://localhost:8080/"
        },
        "id": "YngTPXYjPic0",
        "outputId": "7517514c-d431-4fe4-c54c-5600c07ac9a0"
      },
      "execution_count": 5,
      "outputs": [
        {
          "output_type": "stream",
          "name": "stdout",
          "text": [
            "Coeficiente de x (m) más cercano: 0.9999999999999996\n",
            "Término independiente (b) más cercano: -30\n"
          ]
        }
      ]
    }
  ]
}