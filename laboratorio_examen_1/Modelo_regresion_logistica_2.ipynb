{
  "nbformat": 4,
  "nbformat_minor": 0,
  "metadata": {
    "colab": {
      "provenance": [],
      "gpuType": "T4"
    },
    "kernelspec": {
      "name": "python3",
      "display_name": "Python 3"
    },
    "language_info": {
      "name": "python"
    },
    "accelerator": "GPU"
  },
  "cells": [
    {
      "cell_type": "code",
      "execution_count": 210,
      "metadata": {
        "colab": {
          "base_uri": "https://localhost:8080/"
        },
        "id": "SaQ57HuXb3eP",
        "outputId": "5471ca6d-f127-4470-9401-c8f7cc752285"
      },
      "outputs": [
        {
          "output_type": "stream",
          "name": "stdout",
          "text": [
            "Drive already mounted at /content/drive; to attempt to forcibly remount, call drive.mount(\"/content/drive\", force_remount=True).\n"
          ]
        }
      ],
      "source": [
        "from google.colab import drive\n",
        "drive.mount('/content/drive')"
      ]
    },
    {
      "cell_type": "code",
      "source": [
        "# Importa la biblioteca PyTorch, que se utiliza para construir y entrenar redes neuronales.\n",
        "import torch\n",
        "#Importa la biblioteca NumPy, que se utiliza para operaciones numéricas eficientes en Python.\n",
        "import numpy as np\n",
        "#Importa la biblioteca Pandas, que se utiliza para trabajar con estructuras de datos tabulares, como DataFrames.\n",
        "import pandas as pd"
      ],
      "metadata": {
        "id": "UiHc1WzTdQlS"
      },
      "execution_count": 211,
      "outputs": []
    },
    {
      "cell_type": "code",
      "source": [
        "data = pd.read_csv('/content/drive/MyDrive/Colab Notebooks/machine learning/Datasets/train data credit card.csv')\n",
        "num_filas, num_columnas = data.shape\n",
        "\n",
        "keys = data.keys()\n",
        "print(keys)\n",
        "print(f'Número de filas: {num_filas}\\n')\n",
        "print(f'Número de columnas: {num_columnas}\\n')\n",
        "#num_labels = data['posttest'].nunique()\n",
        "#print(\"Número de etiquetas únicas para y:\", num_labels)"
      ],
      "metadata": {
        "colab": {
          "base_uri": "https://localhost:8080/"
        },
        "id": "y88EBUOacCX2",
        "outputId": "5467e0dc-5489-422c-b63f-b22ce7275d06"
      },
      "execution_count": 212,
      "outputs": [
        {
          "output_type": "stream",
          "name": "stdout",
          "text": [
            "Index(['ID', 'Gender', 'Age', 'Region_Code', 'Occupation', 'Channel_Code',\n",
            "       'Vintage', 'Credit_Product', 'Avg_Account_Balance', 'Is_Active',\n",
            "       'Is_Lead'],\n",
            "      dtype='object')\n",
            "Número de filas: 245725\n",
            "\n",
            "Número de columnas: 11\n",
            "\n"
          ]
        }
      ]
    },
    {
      "cell_type": "code",
      "source": [
        "# Eliminar las columnas innecesarias del DataFrame\n",
        "#columns_to_drop = ['ID', 'CustomerId', 'Surname']\n",
        "columns_to_drop = ['ID','Region_Code']\n",
        "data = data.drop(columns=columns_to_drop)\n",
        "# Convertir columnas categóricas en one-hot encoding\n",
        "#data = pd.get_dummies(data, columns=['Geography'], prefix=['Country'])\n",
        "data = pd.get_dummies(data,  columns=['Gender', 'Is_Active','Occupation','Channel_Code'])\n",
        "data = pd.get_dummies(data,  columns=[ 'Credit_Product'], dummy_na=True)\n",
        "# Convertir la columna \"Gender\" en variables one-hot\n",
        "columns_to_drop2 = ['Gender_Female','Is_Active_No','Credit_Product_No']\n",
        "data = data.drop(columns=columns_to_drop2)\n",
        "Is_Lead   = data['Is_Lead']\n",
        "# Eliminar la columna \"Is_Lead\" del DataFrame original\n",
        "data = data.drop(columns=['Is_Lead'])\n",
        "\n",
        "# Agregar la columna \"Is_Lead\" al final del DataFrame\n",
        "data['Is_Lead'] = Is_Lead\n",
        "keys2 = data.keys()\n",
        "print(keys2)"
      ],
      "metadata": {
        "colab": {
          "base_uri": "https://localhost:8080/"
        },
        "id": "pImz90nf6351",
        "outputId": "4644069d-2db7-4d00-f8a2-f3897ed9e0be"
      },
      "execution_count": 213,
      "outputs": [
        {
          "output_type": "stream",
          "name": "stdout",
          "text": [
            "Index(['Age', 'Vintage', 'Avg_Account_Balance', 'Gender_Male', 'Is_Active_Yes',\n",
            "       'Occupation_Entrepreneur', 'Occupation_Other', 'Occupation_Salaried',\n",
            "       'Occupation_Self_Employed', 'Channel_Code_X1', 'Channel_Code_X2',\n",
            "       'Channel_Code_X3', 'Channel_Code_X4', 'Credit_Product_Yes',\n",
            "       'Credit_Product_nan', 'Is_Lead'],\n",
            "      dtype='object')\n"
          ]
        }
      ]
    },
    {
      "cell_type": "code",
      "source": [
        "X, y = data.iloc[:, :15], data.iloc[:, 15]\n",
        "print(X.shape)\n",
        "print(y.shape)\n",
        "print(X,y)"
      ],
      "metadata": {
        "colab": {
          "base_uri": "https://localhost:8080/"
        },
        "id": "i7Dwwdq5doya",
        "outputId": "d89ce1d1-453d-4f7e-8b3d-7e66847d1a7d"
      },
      "execution_count": 214,
      "outputs": [
        {
          "output_type": "stream",
          "name": "stdout",
          "text": [
            "(245725, 15)\n",
            "(245725,)\n",
            "        Age  Vintage  Avg_Account_Balance  Gender_Male  Is_Active_Yes  \\\n",
            "0        73       43              1045696            0              0   \n",
            "1        30       32               581988            0              0   \n",
            "2        56       26              1484315            0              1   \n",
            "3        34       19               470454            1              0   \n",
            "4        30       33               886787            0              0   \n",
            "...     ...      ...                  ...          ...            ...   \n",
            "245720   51      109              1925586            1              0   \n",
            "245721   27       15               862952            1              1   \n",
            "245722   26       13               670659            0              0   \n",
            "245723   28       31               407504            0              0   \n",
            "245724   29       21              1129276            1              0   \n",
            "\n",
            "        Occupation_Entrepreneur  Occupation_Other  Occupation_Salaried  \\\n",
            "0                             0                 1                    0   \n",
            "1                             0                 0                    1   \n",
            "2                             0                 0                    0   \n",
            "3                             0                 0                    1   \n",
            "4                             0                 0                    1   \n",
            "...                         ...               ...                  ...   \n",
            "245720                        0                 0                    0   \n",
            "245721                        0                 0                    1   \n",
            "245722                        0                 0                    1   \n",
            "245723                        0                 0                    1   \n",
            "245724                        0                 0                    1   \n",
            "\n",
            "        Occupation_Self_Employed  Channel_Code_X1  Channel_Code_X2  \\\n",
            "0                              0                0                0   \n",
            "1                              0                1                0   \n",
            "2                              1                0                0   \n",
            "3                              0                1                0   \n",
            "4                              0                1                0   \n",
            "...                          ...              ...              ...   \n",
            "245720                         1                0                0   \n",
            "245721                         0                1                0   \n",
            "245722                         0                1                0   \n",
            "245723                         0                1                0   \n",
            "245724                         0                1                0   \n",
            "\n",
            "        Channel_Code_X3  Channel_Code_X4  Credit_Product_Yes  \\\n",
            "0                     1                0                   0   \n",
            "1                     0                0                   0   \n",
            "2                     1                0                   0   \n",
            "3                     0                0                   0   \n",
            "4                     0                0                   0   \n",
            "...                 ...              ...                 ...   \n",
            "245720                1                0                   0   \n",
            "245721                0                0                   0   \n",
            "245722                0                0                   0   \n",
            "245723                0                0                   0   \n",
            "245724                0                0                   0   \n",
            "\n",
            "        Credit_Product_nan  \n",
            "0                        0  \n",
            "1                        0  \n",
            "2                        0  \n",
            "3                        0  \n",
            "4                        0  \n",
            "...                    ...  \n",
            "245720                   1  \n",
            "245721                   0  \n",
            "245722                   0  \n",
            "245723                   0  \n",
            "245724                   0  \n",
            "\n",
            "[245725 rows x 15 columns] 0         0\n",
            "1         0\n",
            "2         0\n",
            "3         0\n",
            "4         0\n",
            "         ..\n",
            "245720    0\n",
            "245721    0\n",
            "245722    0\n",
            "245723    0\n",
            "245724    0\n",
            "Name: Is_Lead, Length: 245725, dtype: int64\n"
          ]
        }
      ]
    },
    {
      "cell_type": "code",
      "source": [
        "from sklearn.model_selection import train_test_split\n",
        "# Dividir los datos en entrenamiento y prueba (80% - 20%)\n",
        "X_train, X_test, y_train, y_test = train_test_split(X, y, test_size=0.2, random_state=42)\n",
        "\n",
        "# Asegurarse de que las etiquetas sean de tipo entero\n",
        "X_train = X_train.astype(np.float)\n",
        "X_test = X_test.astype(np.float)\n",
        "y_train = y_train.astype(np.float)\n",
        "y_test = y_test.astype(np.float)\n",
        "\n",
        "#print(X_test.info())\n",
        "#print(X_train.info())"
      ],
      "metadata": {
        "colab": {
          "base_uri": "https://localhost:8080/"
        },
        "id": "mU01_NV7eXsG",
        "outputId": "10360815-5919-4ad0-d444-8094b7aa5c94"
      },
      "execution_count": 215,
      "outputs": [
        {
          "output_type": "stream",
          "name": "stderr",
          "text": [
            "<ipython-input-215-90b5b4839da0>:6: DeprecationWarning: `np.float` is a deprecated alias for the builtin `float`. To silence this warning, use `float` by itself. Doing this will not modify any behavior and is safe. If you specifically wanted the numpy scalar type, use `np.float64` here.\n",
            "Deprecated in NumPy 1.20; for more details and guidance: https://numpy.org/devdocs/release/1.20.0-notes.html#deprecations\n",
            "  X_train = X_train.astype(np.float)\n",
            "<ipython-input-215-90b5b4839da0>:7: DeprecationWarning: `np.float` is a deprecated alias for the builtin `float`. To silence this warning, use `float` by itself. Doing this will not modify any behavior and is safe. If you specifically wanted the numpy scalar type, use `np.float64` here.\n",
            "Deprecated in NumPy 1.20; for more details and guidance: https://numpy.org/devdocs/release/1.20.0-notes.html#deprecations\n",
            "  X_test = X_test.astype(np.float)\n",
            "<ipython-input-215-90b5b4839da0>:8: DeprecationWarning: `np.float` is a deprecated alias for the builtin `float`. To silence this warning, use `float` by itself. Doing this will not modify any behavior and is safe. If you specifically wanted the numpy scalar type, use `np.float64` here.\n",
            "Deprecated in NumPy 1.20; for more details and guidance: https://numpy.org/devdocs/release/1.20.0-notes.html#deprecations\n",
            "  y_train = y_train.astype(np.float)\n",
            "<ipython-input-215-90b5b4839da0>:9: DeprecationWarning: `np.float` is a deprecated alias for the builtin `float`. To silence this warning, use `float` by itself. Doing this will not modify any behavior and is safe. If you specifically wanted the numpy scalar type, use `np.float64` here.\n",
            "Deprecated in NumPy 1.20; for more details and guidance: https://numpy.org/devdocs/release/1.20.0-notes.html#deprecations\n",
            "  y_test = y_test.astype(np.float)\n"
          ]
        }
      ]
    },
    {
      "cell_type": "code",
      "source": [
        "\"\"\"print(\"X_train:\\n\",X_train)\n",
        "print(\"y_train:\\n\",y_train)\n",
        "print(\"X_test:\\n\",X_test)\n",
        "print(\"y_test:\\n\",y_test)\"\"\""
      ],
      "metadata": {
        "colab": {
          "base_uri": "https://localhost:8080/",
          "height": 35
        },
        "id": "IzWsD5AhVpQe",
        "outputId": "5e8cfbcc-fb3b-4f2e-9e7d-14986faceca6"
      },
      "execution_count": 216,
      "outputs": [
        {
          "output_type": "execute_result",
          "data": {
            "text/plain": [
              "'print(\"X_train:\\n\",X_train)\\nprint(\"y_train:\\n\",y_train)\\nprint(\"X_test:\\n\",X_test)\\nprint(\"y_test:\\n\",y_test)'"
            ],
            "application/vnd.google.colaboratory.intrinsic+json": {
              "type": "string"
            }
          },
          "metadata": {},
          "execution_count": 216
        }
      ]
    },
    {
      "cell_type": "markdown",
      "source": [
        "###Modelo"
      ],
      "metadata": {
        "id": "Iv6YWi3tellY"
      }
    },
    {
      "cell_type": "code",
      "source": [
        "import torch\n",
        "import torch.nn as nn\n",
        "import torch.optim as optim\n",
        "import pandas as pd\n",
        "import numpy as np\n",
        "from sklearn.model_selection import train_test_split\n",
        "\n",
        "# Convertir los DataFrames a tensores de PyTorch\n",
        "X_train = torch.tensor(X_train.values, dtype=torch.float32)\n",
        "X_test = torch.tensor(X_test.values, dtype=torch.float32)\n",
        "y_train = torch.tensor(y_train.values, dtype=torch.float32).view(-1, 1)\n",
        "y_test = torch.tensor(y_test.values, dtype=torch.float32).view(-1, 1)\n",
        "\n",
        "# Definir un modelo de regresión logística en PyTorch\n",
        "class LogisticRegressionModel(nn.Module):\n",
        "    def __init__(self, input_size):\n",
        "        super(LogisticRegressionModel, self).__init__()\n",
        "        self.linear = nn.Linear(input_size, 1)\n",
        "\n",
        "    def forward(self, x):\n",
        "        return torch.sigmoid(self.linear(x))\n",
        "\n",
        "# Crear una instancia del modelo\n",
        "input_size = X_train.shape[1]\n",
        "model = LogisticRegressionModel(input_size)\n",
        "\n",
        "# Definir la función de pérdida y el optimizador\n",
        "criterion = nn.BCELoss()\n",
        "#criterion = nn.MSELoss()\n",
        "#criterion = nn.NLLLoss()\n",
        "#criterion = nn.KLDivLoss()\n",
        "\n",
        "\n",
        "optimizer = optim.SGD(model.parameters(), lr=0.000001)\n",
        "\n",
        "# Entrenar el modelo\n",
        "num_epochs = 100\n",
        "for epoch in range(num_epochs):\n",
        "    # Forward pass\n",
        "    outputs = model(X_train)\n",
        "    loss = criterion(outputs, y_train)\n",
        "\n",
        "    # Backward pass y optimización\n",
        "    optimizer.zero_grad()\n",
        "    loss.backward()\n",
        "    optimizer.step()\n",
        "\n",
        "    if (epoch + 1) % 10 == 0:\n",
        "        print(f'Epoch [{epoch+1}/{num_epochs}], Loss: {loss.item():.4f}')\n",
        "\n",
        "# Evaluar el modelo en datos de prueba\n",
        "with torch.no_grad():\n",
        "    y_pred = model(X_test)\n",
        "    y_pred_binary = (y_pred >= 0.5).float()  # Convertir probabilidades a etiquetas binarias (0 o 1)\n",
        "    accuracy = (y_pred_binary == y_test).float().mean()\n",
        "    print(f'Accuracy en los datos de prueba: {accuracy.item():.4f}')\n",
        "\n"
      ],
      "metadata": {
        "colab": {
          "base_uri": "https://localhost:8080/"
        },
        "id": "kjzAzX2cyiz5",
        "outputId": "7e26ff80-5369-4e84-ab87-da00aa31981f"
      },
      "execution_count": 217,
      "outputs": [
        {
          "output_type": "stream",
          "name": "stdout",
          "text": [
            "Epoch [10/100], Loss: 23.7374\n",
            "Epoch [20/100], Loss: 23.7374\n",
            "Epoch [30/100], Loss: 23.7374\n",
            "Epoch [40/100], Loss: 23.7374\n",
            "Epoch [50/100], Loss: 23.7374\n",
            "Epoch [60/100], Loss: 23.7374\n",
            "Epoch [70/100], Loss: 23.7374\n",
            "Epoch [80/100], Loss: 23.7374\n",
            "Epoch [90/100], Loss: 23.7374\n",
            "Epoch [100/100], Loss: 23.7374\n",
            "Accuracy en los datos de prueba: 0.7635\n"
          ]
        }
      ]
    },
    {
      "cell_type": "code",
      "source": [
        "#Predicciones en los datos de entrenamiento:\n",
        "with torch.no_grad():\n",
        "    y_pred_train = model(X_train)\n",
        "    test_loss = criterion(y_pred_train, y_train.view(-1, 1))\n",
        "print(f'Loss en los datos de prueba: {test_loss.item():.4f}')\n",
        "#Predicciones en los datos de prueba:\n",
        "with torch.no_grad():\n",
        "    y_pred_test = model(X_test)\n",
        "    test_loss = criterion(y_pred_test, y_test.view(-1, 1))\n",
        "print(f'Loss en los datos de prueba: {test_loss.item():.4f}')\n"
      ],
      "metadata": {
        "colab": {
          "base_uri": "https://localhost:8080/"
        },
        "id": "woGSyqPl2P4C",
        "outputId": "107854f6-2baa-41c7-99ec-97171f140451"
      },
      "execution_count": 218,
      "outputs": [
        {
          "output_type": "stream",
          "name": "stdout",
          "text": [
            "Loss en los datos de prueba: 23.7374\n",
            "Loss en los datos de prueba: 23.6545\n"
          ]
        }
      ]
    }
  ]
}