{
  "cells": [
    {
      "cell_type": "markdown",
      "metadata": {
        "id": "DjhgRWO_m6xK"
      },
      "source": [
        "# Pytorch - Redes Neuronales"
      ]
    },
    {
      "cell_type": "code",
      "execution_count": 118,
      "metadata": {
        "ExecuteTime": {
          "end_time": "2020-08-15T12:21:45.471625Z",
          "start_time": "2020-08-15T12:21:45.002765Z"
        },
        "id": "4hnzhQywm6xL"
      },
      "outputs": [],
      "source": [
        "# Importa la biblioteca PyTorch, que se utiliza para construir y entrenar redes neuronales.\n",
        "import torch\n",
        "#Importa la biblioteca NumPy, que se utiliza para operaciones numéricas eficientes en Python.\n",
        "import numpy as np\n",
        "#Importa la biblioteca Pandas, que se utiliza para trabajar con estructuras de datos tabulares, como DataFrames.\n",
        "import pandas as pd"
      ]
    },
    {
      "cell_type": "markdown",
      "source": [
        "Definición del modelo:\n",
        "\n",
        "    Define la arquitectura de tu modelo, incluyendo el número de capas, el número de neuronas en cada capa y las funciones de activación.\n",
        "  "
      ],
      "metadata": {
        "id": "l2PI7UwcHq5U"
      }
    },
    {
      "cell_type": "markdown",
      "source": [
        "    D_in: Representa la dimensión de entrada de la red neuronal, que es 784.\n",
        "    H: Representa el número de neuronas en la capa oculta de la red, que es 55.\n",
        "    Reducción de 784 a 55 características\n",
        "    D_out: Representa la dimensión de salida de la red neuronal, que es 10."
      ],
      "metadata": {
        "id": "FHBEV6nZ-PJJ"
      }
    },
    {
      "cell_type": "code",
      "source": [
        "#modelo de red neuronal artificial (RNA) utilizando el framework PyTorch.\n",
        "D_in, H, D_out = 784, 55, 10\n",
        "# se crea el modelo de red neuronal\n",
        "# h=55  es el numero de neuronas en la capa oculta de la red neuronal\n",
        "# se usan tres capas\n",
        "model = torch.nn.Sequential(\n",
        "    torch.nn.Linear(D_in, H),\n",
        "    torch.nn.ReLU(),\n",
        "    torch.nn.Linear(H, D_out),\n",
        ")\n",
        "\n",
        "# D_in, H1, H2, D_out = 784, 100, 50, 10\n",
        "# model = torch.nn.Sequential(\n",
        "#     torch.nn.Linear(D_in, H1),\n",
        "#     torch.nn.ReLU(),\n",
        "#     torch.nn.Linear(H1, H2),\n",
        "#     torch.nn.ReLU(),\n",
        "#     torch.nn.Linear(H2, D_out),\n",
        "# )"
      ],
      "metadata": {
        "id": "XmzVsCeKma_g"
      },
      "execution_count": 119,
      "outputs": []
    },
    {
      "cell_type": "markdown",
      "source": [
        "se utiliza para verificar la forma de las salidas generadas por el modelo cuando se le proporciona un lote de 64 ejemplos de datos de entrada. Esto es útil para comprender la estructura de las salidas y asegurarse de que coincidan con las expectativas antes de continuar con el entrenamiento o la evaluación del modelo en un conjunto de datos real."
      ],
      "metadata": {
        "id": "LYmUZGeuJdw8"
      }
    },
    {
      "cell_type": "code",
      "source": [
        "outputs = model(torch.randn(64, 784))#64 ejemplos\n",
        "outputs.shape"
      ],
      "metadata": {
        "colab": {
          "base_uri": "https://localhost:8080/"
        },
        "id": "2LjkwUrHGWU2",
        "outputId": "c5e7a891-12cc-420d-9ecc-ff93e9c9adee"
      },
      "execution_count": 120,
      "outputs": [
        {
          "output_type": "execute_result",
          "data": {
            "text/plain": [
              "torch.Size([64, 10])"
            ]
          },
          "metadata": {},
          "execution_count": 120
        }
      ]
    },
    {
      "cell_type": "code",
      "source": [
        "if torch.cuda.is_available():\n",
        "    device = torch.cuda.get_device_name(0)\n",
        "    print(\"GPU disponible:\", device)\n",
        "else:\n",
        "    print(\"No se detectó una GPU.\")"
      ],
      "metadata": {
        "colab": {
          "base_uri": "https://localhost:8080/"
        },
        "id": "nlwuKlChlBHR",
        "outputId": "ff0a7342-abfc-468f-9224-89506e4a76c9"
      },
      "execution_count": 121,
      "outputs": [
        {
          "output_type": "stream",
          "name": "stdout",
          "text": [
            "GPU disponible: Tesla T4\n"
          ]
        }
      ]
    },
    {
      "cell_type": "markdown",
      "source": [
        "Mueve el modelo de la CPU al dispositivo de GPU.\n",
        "\n",
        "El resultado es la arquitectura del modelo con sus capas y conexiones."
      ],
      "metadata": {
        "id": "vfqbreHPJmhV"
      }
    },
    {
      "cell_type": "code",
      "source": [
        "model.to(\"cuda\")"
      ],
      "metadata": {
        "colab": {
          "base_uri": "https://localhost:8080/"
        },
        "id": "w8hvPYZxUiKn",
        "outputId": "6285ac96-2b9b-42b0-d932-793e2a8c2afd"
      },
      "execution_count": 122,
      "outputs": [
        {
          "output_type": "execute_result",
          "data": {
            "text/plain": [
              "Sequential(\n",
              "  (0): Linear(in_features=784, out_features=55, bias=True)\n",
              "  (1): ReLU()\n",
              "  (2): Linear(in_features=55, out_features=10, bias=True)\n",
              ")"
            ]
          },
          "metadata": {},
          "execution_count": 122
        }
      ]
    },
    {
      "cell_type": "code",
      "source": [
        "from google.colab import drive\n",
        "drive.mount('/content/drive')"
      ],
      "metadata": {
        "id": "uYfd0OJqhBHL",
        "colab": {
          "base_uri": "https://localhost:8080/"
        },
        "outputId": "322b28e6-b6c7-493a-acea-353a4b4d1629"
      },
      "execution_count": 123,
      "outputs": [
        {
          "output_type": "stream",
          "name": "stdout",
          "text": [
            "Drive already mounted at /content/drive; to attempt to forcibly remount, call drive.mount(\"/content/drive\", force_remount=True).\n"
          ]
        }
      ]
    },
    {
      "cell_type": "markdown",
      "source": [
        "#### Procesamiento de datos"
      ],
      "metadata": {
        "id": "aKV942I3GvzP"
      }
    },
    {
      "cell_type": "code",
      "source": [
        "#data = np.loadtxt(\"/content/drive/MyDrive/Colab Notebooks/DATASETS/fashion-mnist_train.csv\", delimiter=',',skiprows=1)\n",
        "#data = pd.read_csv('/content/drive/MyDrive/Colab Notebooks/machine learning/Datasets/fashion-mnist_train.csv', nrows=5000)\n",
        "data = pd.read_csv('/content/drive/MyDrive/Colab Notebooks/machine learning/Datasets/DigitRecognizer_extended_trainData.csv')\n",
        "num_filas, num_columnas = data.shape\n",
        "\n",
        "keys = data.keys()\n",
        "print(keys)\n",
        "print(f'Número de filas: {num_filas}\\n')\n",
        "print(f'Número de columnas: {num_columnas}\\n')\n",
        "num_labels = data['label'].nunique()\n",
        "print(\"Número de etiquetas únicas para y:\", num_labels)\n",
        "\n"
      ],
      "metadata": {
        "id": "0lPCsYXeVsIN",
        "colab": {
          "base_uri": "https://localhost:8080/"
        },
        "outputId": "7d9ec3e0-04c0-4436-de96-81c589a47324"
      },
      "execution_count": 124,
      "outputs": [
        {
          "output_type": "stream",
          "name": "stdout",
          "text": [
            "Index(['label', 'pixel0', 'pixel1', 'pixel2', 'pixel3', 'pixel4', 'pixel5',\n",
            "       'pixel6', 'pixel7', 'pixel8',\n",
            "       ...\n",
            "       'pixel774', 'pixel775', 'pixel776', 'pixel777', 'pixel778', 'pixel779',\n",
            "       'pixel780', 'pixel781', 'pixel782', 'pixel783'],\n",
            "      dtype='object', length=785)\n",
            "Número de filas: 210000\n",
            "\n",
            "Número de columnas: 785\n",
            "\n",
            "Número de etiquetas únicas para y: 10\n"
          ]
        }
      ]
    },
    {
      "cell_type": "code",
      "source": [
        "X, Y = data.iloc[:, 1:], data.iloc[:, 0]\n",
        "print(X.shape)\n",
        "print(Y.shape)"
      ],
      "metadata": {
        "id": "Lre_VrL708-I",
        "colab": {
          "base_uri": "https://localhost:8080/"
        },
        "outputId": "f0f1e706-b5e1-4de6-c8da-a58d4680d09d"
      },
      "execution_count": 125,
      "outputs": [
        {
          "output_type": "stream",
          "name": "stdout",
          "text": [
            "(210000, 784)\n",
            "(210000,)\n"
          ]
        }
      ]
    },
    {
      "cell_type": "code",
      "source": [
        "# normalización y split\n",
        "#X_train, X_test, y_train, y_test = X[:50000] / 255., X[50000:] / 255., Y[:50000].astype(np.int), Y[50000:].astype(np.int)\n",
        "from sklearn.model_selection import train_test_split\n",
        "\n",
        "# Suponiendo que X es tu conjunto de características y Y es tu conjunto de etiquetas\n",
        "\n",
        "# Dividir los datos en entrenamiento y prueba (80% - 20%)\n",
        "X_train, X_test, y_train, y_test = train_test_split(X, Y, test_size=0.2, random_state=42)\n",
        "\n",
        "# Normalizar los datos, dividiendo por 255.\n",
        "X_train = X_train / 255.0\n",
        "X_test = X_test / 255.0\n",
        "\n",
        "# Asegurarse de que las etiquetas sean de tipo entero\n",
        "y_train = y_train.astype(np.int)\n",
        "y_test = y_test.astype(np.int)\n",
        "\n"
      ],
      "metadata": {
        "id": "xGHmr-8-G1lA",
        "colab": {
          "base_uri": "https://localhost:8080/"
        },
        "outputId": "a27c7068-a4ce-464b-acf8-b2e297b2e9e6"
      },
      "execution_count": 126,
      "outputs": [
        {
          "output_type": "stream",
          "name": "stderr",
          "text": [
            "<ipython-input-126-c21f8ea72f8f>:15: DeprecationWarning: `np.int` is a deprecated alias for the builtin `int`. To silence this warning, use `int` by itself. Doing this will not modify any behavior and is safe. When replacing `np.int`, you may wish to use e.g. `np.int64` or `np.int32` to specify the precision. If you wish to review your current use, check the release note link for additional information.\n",
            "Deprecated in NumPy 1.20; for more details and guidance: https://numpy.org/devdocs/release/1.20.0-notes.html#deprecations\n",
            "  y_train = y_train.astype(np.int)\n",
            "<ipython-input-126-c21f8ea72f8f>:16: DeprecationWarning: `np.int` is a deprecated alias for the builtin `int`. To silence this warning, use `int` by itself. Doing this will not modify any behavior and is safe. When replacing `np.int`, you may wish to use e.g. `np.int64` or `np.int32` to specify the precision. If you wish to review your current use, check the release note link for additional information.\n",
            "Deprecated in NumPy 1.20; for more details and guidance: https://numpy.org/devdocs/release/1.20.0-notes.html#deprecations\n",
            "  y_test = y_test.astype(np.int)\n"
          ]
        }
      ]
    },
    {
      "cell_type": "code",
      "source": [
        "\"\"\"print(\"X_train:\\n\",X_train)\n",
        "print(\"y_train:\\n\",y_train)\n",
        "print(\"X_test:\\n\",X_test)\n",
        "print(\"y_test:\\n\",y_test)\"\"\""
      ],
      "metadata": {
        "colab": {
          "base_uri": "https://localhost:8080/",
          "height": 35
        },
        "id": "EP3ZU950D7gB",
        "outputId": "b3902fe3-de93-4287-e5b5-60d95c527593"
      },
      "execution_count": 127,
      "outputs": [
        {
          "output_type": "execute_result",
          "data": {
            "text/plain": [
              "'print(\"X_train:\\n\",X_train)\\nprint(\"y_train:\\n\",y_train)\\nprint(\"X_test:\\n\",X_test)\\nprint(\"y_test:\\n\",y_test)'"
            ],
            "application/vnd.google.colaboratory.intrinsic+json": {
              "type": "string"
            }
          },
          "metadata": {},
          "execution_count": 127
        }
      ]
    },
    {
      "cell_type": "markdown",
      "source": [
        "La función softmax se utiliza en la capa de salida de una red neuronal para convertir las puntuaciones o logits (números reales) en probabilidades que representan la confianza del modelo en cada clase.\n",
        "\n",
        "La entropía cruzada se utiliza como función de pérdida en el proceso de entrenamiento de redes neuronales. La idea es minimizar esta pérdida para que las predicciones del modelo se aproximen lo más posible a las etiquetas reales."
      ],
      "metadata": {
        "id": "zAm02EDKEJ9Z"
      }
    },
    {
      "cell_type": "code",
      "execution_count": 128,
      "metadata": {
        "ExecuteTime": {
          "end_time": "2020-08-15T12:22:05.777964Z",
          "start_time": "2020-08-15T12:22:05.763102Z"
        },
        "hidden": true,
        "id": "pDJK07Jpm6xR"
      },
      "outputs": [],
      "source": [
        "# función de pérdida y derivada\n",
        "\n",
        "def softmax(x):\n",
        "    return torch.exp(x) / torch.exp(x).sum(axis=-1,keepdims=True)\n",
        "\n",
        "def cross_entropy(output, target):\n",
        "    logits = output[torch.arange(len(output)), target]\n",
        "    loss = - logits + torch.log(torch.sum(torch.exp(output), axis=-1))\n",
        "    loss = loss.mean()\n",
        "    return loss"
      ]
    },
    {
      "cell_type": "code",
      "source": [
        "#print(X)"
      ],
      "metadata": {
        "id": "tZCJjxDZyenK"
      },
      "execution_count": 129,
      "outputs": []
    },
    {
      "cell_type": "code",
      "source": [
        "model.cuda()"
      ],
      "metadata": {
        "id": "HdnCgYtHoD6l",
        "colab": {
          "base_uri": "https://localhost:8080/"
        },
        "outputId": "cc0ff731-91e0-4c01-93a3-6f43dffe6379"
      },
      "execution_count": 130,
      "outputs": [
        {
          "output_type": "execute_result",
          "data": {
            "text/plain": [
              "Sequential(\n",
              "  (0): Linear(in_features=784, out_features=55, bias=True)\n",
              "  (1): ReLU()\n",
              "  (2): Linear(in_features=55, out_features=10, bias=True)\n",
              ")"
            ]
          },
          "metadata": {},
          "execution_count": 130
        }
      ]
    },
    {
      "cell_type": "code",
      "execution_count": 131,
      "metadata": {
        "ExecuteTime": {
          "end_time": "2020-08-15T12:22:07.268014Z",
          "start_time": "2020-08-15T12:22:05.778966Z"
        },
        "hidden": true,
        "id": "EjdhOJ90m6xS",
        "colab": {
          "base_uri": "https://localhost:8080/"
        },
        "outputId": "5494b6b5-ce0f-4d7a-aaab-b57ffa002140"
      },
      "outputs": [
        {
          "output_type": "stream",
          "name": "stdout",
          "text": [
            "Epoch 10/100 Loss 1.67598\n",
            "Epoch 20/100 Loss 1.33727\n",
            "Epoch 30/100 Loss 1.10846\n",
            "Epoch 40/100 Loss 0.97230\n",
            "Epoch 50/100 Loss 0.86941\n",
            "Epoch 60/100 Loss 0.78496\n",
            "Epoch 70/100 Loss 0.72726\n",
            "Epoch 80/100 Loss 0.67843\n",
            "Epoch 90/100 Loss 0.63654\n",
            "Epoch 100/100 Loss 0.60175\n"
          ]
        }
      ],
      "source": [
        "\n",
        "X_t = torch.from_numpy(X_train.values).float().cuda()\n",
        "Y_t = torch.from_numpy(y_train.values).long().cuda()\n",
        "\n",
        "# bucle entrenamiento\n",
        "epochs = 100\n",
        "lr = 0.6\n",
        "log_each = 10\n",
        "l = []\n",
        "for e in range(1, epochs + 1):\n",
        "\n",
        "\n",
        "    # forward pass\n",
        "    y_pred = model(X_t)\n",
        "\n",
        "    # loss\n",
        "    loss = cross_entropy(y_pred, Y_t)\n",
        "    l.append(loss.item())\n",
        "\n",
        "    # ponemos a cero los gradientes\n",
        "    model.zero_grad()\n",
        "\n",
        "    # Backprop (calculamos todos los gradientes automáticamente)\n",
        "    loss.backward()\n",
        "\n",
        "    # Actualización  de los pesos\n",
        "    with torch.no_grad():\n",
        "        for param in model.parameters():\n",
        "            param -= lr * param.grad\n",
        "\n",
        "    if not e % log_each:\n",
        "        print(f\"Epoch {e}/{epochs} Loss {np.mean(l):.5f}\")"
      ]
    },
    {
      "cell_type": "code",
      "execution_count": 132,
      "metadata": {
        "ExecuteTime": {
          "end_time": "2020-08-15T12:22:07.312014Z",
          "start_time": "2020-08-15T12:22:07.270016Z"
        },
        "hidden": true,
        "id": "Ufomq0IIm6xT",
        "colab": {
          "base_uri": "https://localhost:8080/"
        },
        "outputId": "785549e1-145b-43c9-f9a2-c60c8578a3e8"
      },
      "outputs": [
        {
          "output_type": "stream",
          "name": "stdout",
          "text": [
            "Accuracy en los datos de entrenamiento: 0.9180\n",
            "Accuracy en los datos de prueba: 0.9180\n"
          ]
        }
      ],
      "source": [
        "from sklearn.metrics import accuracy_score\n",
        "\n",
        "def evaluate(x):\n",
        "    model.eval()\n",
        "    y_pred = model(x)\n",
        "    y_probas = softmax(y_pred)\n",
        "    return torch.argmax(y_probas, axis=1)\n",
        "# Convierte X_test a un NumPy array\n",
        "##\n",
        "X_train_numpy = X_train.to_numpy()\n",
        "X_test_numpy = X_test.to_numpy()\n",
        "#y_pred = evaluate(torch.from_numpy(X_test_numpy).float().cuda())\n",
        "#accuracy_score(y_test, y_pred.cpu().numpy())\n",
        "\n",
        "#precisión del modelo en el conjunto de datos de prueba.\n",
        "\n",
        "X_train_tensor = torch.from_numpy(X_train_numpy).float().cuda()\n",
        "X_test_tensor = torch.from_numpy(X_test_numpy).float().cuda()\n",
        "#print(X_test_tensor)\n",
        "y_pred_train = evaluate(X_train_tensor)\n",
        "y_pred = evaluate(X_test_tensor)\n",
        "#print(y_pred)\n",
        "test_accuracy = accuracy_score(y_train, y_pred_train.cpu().numpy())\n",
        "print(f'Accuracy en los datos de entrenamiento: {test_accuracy:.4f}')\n",
        "\n",
        "accuracy = accuracy_score(y_test, y_pred.cpu().numpy())\n",
        "print(f\"Accuracy en los datos de prueba: {accuracy:.4f}\")\n"
      ]
    }
  ],
  "metadata": {
    "kernelspec": {
      "display_name": "Python 3",
      "name": "python3"
    },
    "language_info": {
      "codemirror_mode": {
        "name": "ipython",
        "version": 3
      },
      "file_extension": ".py",
      "mimetype": "text/x-python",
      "name": "python",
      "nbconvert_exporter": "python",
      "pygments_lexer": "ipython3",
      "version": "3.8.3"
    },
    "toc": {
      "base_numbering": 1,
      "nav_menu": {},
      "number_sections": true,
      "sideBar": true,
      "skip_h1_title": false,
      "title_cell": "Table of Contents",
      "title_sidebar": "Contents",
      "toc_cell": false,
      "toc_position": {
        "height": "calc(100% - 180px)",
        "left": "10px",
        "top": "150px",
        "width": "233.594px"
      },
      "toc_section_display": true,
      "toc_window_display": false
    },
    "colab": {
      "provenance": [],
      "gpuType": "T4"
    },
    "accelerator": "GPU"
  },
  "nbformat": 4,
  "nbformat_minor": 0
}