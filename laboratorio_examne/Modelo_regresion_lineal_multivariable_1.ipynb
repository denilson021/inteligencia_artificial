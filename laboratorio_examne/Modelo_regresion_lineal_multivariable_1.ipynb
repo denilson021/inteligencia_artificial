{
  "nbformat": 4,
  "nbformat_minor": 0,
  "metadata": {
    "colab": {
      "provenance": [],
      "gpuType": "T4"
    },
    "kernelspec": {
      "name": "python3",
      "display_name": "Python 3"
    },
    "language_info": {
      "name": "python"
    },
    "accelerator": "GPU"
  },
  "cells": [
    {
      "cell_type": "code",
      "execution_count": 65,
      "metadata": {
        "colab": {
          "base_uri": "https://localhost:8080/"
        },
        "id": "SaQ57HuXb3eP",
        "outputId": "a47bc8cd-edaa-4368-894a-2f8cef005221"
      },
      "outputs": [
        {
          "output_type": "stream",
          "name": "stdout",
          "text": [
            "Drive already mounted at /content/drive; to attempt to forcibly remount, call drive.mount(\"/content/drive\", force_remount=True).\n"
          ]
        }
      ],
      "source": [
        "from google.colab import drive\n",
        "drive.mount('/content/drive')"
      ]
    },
    {
      "cell_type": "code",
      "source": [
        "# Importa la biblioteca PyTorch, que se utiliza para construir y entrenar redes neuronales.\n",
        "import torch\n",
        "#Importa la biblioteca NumPy, que se utiliza para operaciones numéricas eficientes en Python.\n",
        "import numpy as np\n",
        "#Importa la biblioteca Pandas, que se utiliza para trabajar con estructuras de datos tabulares, como DataFrames.\n",
        "import pandas as pd"
      ],
      "metadata": {
        "id": "UiHc1WzTdQlS"
      },
      "execution_count": 66,
      "outputs": []
    },
    {
      "cell_type": "code",
      "source": [
        "data = pd.read_csv('/content/drive/MyDrive/Colab Notebooks/machine learning/Datasets/pizza_v1.csv')\n",
        "num_filas, num_columnas = data.shape\n",
        "\n",
        "keys = data.keys()\n",
        "print(keys)\n",
        "print(f'Número de filas: {num_filas}\\n')\n",
        "print(f'Número de columnas: {num_columnas}\\n')\n",
        "#num_labels = data['posttest'].nunique()\n",
        "#print(\"Número de etiquetas únicas para y:\", num_labels)"
      ],
      "metadata": {
        "colab": {
          "base_uri": "https://localhost:8080/"
        },
        "id": "y88EBUOacCX2",
        "outputId": "eb1260ce-465b-4621-f899-e50be7ac719f"
      },
      "execution_count": 67,
      "outputs": [
        {
          "output_type": "stream",
          "name": "stdout",
          "text": [
            "Index(['company', 'price_rupiah', 'diameter', 'topping', 'variant', 'size',\n",
            "       'extra_sauce', 'extra_cheese'],\n",
            "      dtype='object')\n",
            "Número de filas: 129\n",
            "\n",
            "Número de columnas: 8\n",
            "\n"
          ]
        }
      ]
    },
    {
      "cell_type": "code",
      "source": [
        "# Elimina las columnas \"company\" y \"variant\"\n",
        "data = data.drop([\"company\", \"variant\", \"topping\", \"size\"], axis=1)\n",
        "columna_categorica = 'price_rupiah'\n",
        "columna_numerica = 'price'\n",
        "\n",
        "#Eliminar simbolos\n",
        "columnas_eliminar = ['price_rupiah']\n",
        "simbolo = 'Rp'\n",
        "for columna in columnas_eliminar:\n",
        "    data[columna] = data[columna].str.replace(simbolo, '', regex=False)\n",
        "    data[columna_categorica] = data[columna_categorica].str.replace(',', '', regex=False)\n",
        "\n",
        "# Crea una nueva columna numérica y copia los valores de la columna categórica\n",
        "data[columna_numerica] = pd.to_numeric(data[columna_categorica], errors='coerce')\n",
        "\n",
        "# Elimina la columna categórica original\n",
        "data.drop(columna_categorica, axis=1, inplace=True)\n",
        "print(data.keys())\n",
        "from sklearn.preprocessing import LabelEncoder\n",
        "#variables categoricas\n",
        "columnas_categoricas = data.select_dtypes(include=['object']).columns\n",
        "#Procesamiento de frases o palabras\n",
        "for columna in columnas_categoricas:\n",
        "  le = LabelEncoder()\n",
        "  data[columna] = le.fit_transform(data[columna])\n"
      ],
      "metadata": {
        "colab": {
          "base_uri": "https://localhost:8080/"
        },
        "id": "pImz90nf6351",
        "outputId": "7e334af0-9410-440f-b941-ec333fc82687"
      },
      "execution_count": 68,
      "outputs": [
        {
          "output_type": "stream",
          "name": "stdout",
          "text": [
            "Index(['diameter', 'extra_sauce', 'extra_cheese', 'price'], dtype='object')\n"
          ]
        }
      ]
    },
    {
      "cell_type": "code",
      "source": [
        "X, Y = data.iloc[:, :3], data.iloc[:, 3]\n",
        "print(X.shape)\n",
        "print(Y.shape)\n",
        "print(X,Y)"
      ],
      "metadata": {
        "colab": {
          "base_uri": "https://localhost:8080/"
        },
        "id": "i7Dwwdq5doya",
        "outputId": "90ca3ba0-bc24-4e39-97c7-19f1ac1b750e"
      },
      "execution_count": 69,
      "outputs": [
        {
          "output_type": "stream",
          "name": "stdout",
          "text": [
            "(129, 3)\n",
            "(129,)\n",
            "     diameter  extra_sauce  extra_cheese\n",
            "0        22.0            1             1\n",
            "1        20.0            1             1\n",
            "2        16.0            1             1\n",
            "3        14.0            1             0\n",
            "4        18.0            1             0\n",
            "..        ...          ...           ...\n",
            "124       8.5            1             1\n",
            "125      12.0            1             1\n",
            "126      14.0            1             1\n",
            "127       8.5            1             0\n",
            "128      12.0            0             0\n",
            "\n",
            "[129 rows x 3 columns] 0      235000\n",
            "1      198000\n",
            "2      120000\n",
            "3      155000\n",
            "4      248000\n",
            "        ...  \n",
            "124     39000\n",
            "125     72000\n",
            "126     99000\n",
            "127     44000\n",
            "128     78000\n",
            "Name: price, Length: 129, dtype: int64\n"
          ]
        }
      ]
    },
    {
      "cell_type": "code",
      "source": [
        "from sklearn.model_selection import train_test_split\n",
        "# Dividir los datos en entrenamiento y prueba (80% - 20%)\n",
        "X_train, X_test, y_train, y_test = train_test_split(X, Y, test_size=0.2, random_state=42)\n",
        "\n",
        "# Asegurarse de que las etiquetas sean de tipo entero\n",
        "X_train = X_train.astype(np.float)\n",
        "X_test = X_test.astype(np.float)\n",
        "y_train = y_train.astype(np.float)\n",
        "y_test = y_test.astype(np.float)\n",
        "\n",
        "#print(X_test.info())\n",
        "#print(X_train.info())"
      ],
      "metadata": {
        "colab": {
          "base_uri": "https://localhost:8080/"
        },
        "id": "mU01_NV7eXsG",
        "outputId": "2398696b-a3a8-4535-a94a-95e3c312a527"
      },
      "execution_count": 70,
      "outputs": [
        {
          "output_type": "stream",
          "name": "stderr",
          "text": [
            "<ipython-input-70-92c826b0c764>:6: DeprecationWarning: `np.float` is a deprecated alias for the builtin `float`. To silence this warning, use `float` by itself. Doing this will not modify any behavior and is safe. If you specifically wanted the numpy scalar type, use `np.float64` here.\n",
            "Deprecated in NumPy 1.20; for more details and guidance: https://numpy.org/devdocs/release/1.20.0-notes.html#deprecations\n",
            "  X_train = X_train.astype(np.float)\n",
            "<ipython-input-70-92c826b0c764>:7: DeprecationWarning: `np.float` is a deprecated alias for the builtin `float`. To silence this warning, use `float` by itself. Doing this will not modify any behavior and is safe. If you specifically wanted the numpy scalar type, use `np.float64` here.\n",
            "Deprecated in NumPy 1.20; for more details and guidance: https://numpy.org/devdocs/release/1.20.0-notes.html#deprecations\n",
            "  X_test = X_test.astype(np.float)\n",
            "<ipython-input-70-92c826b0c764>:8: DeprecationWarning: `np.float` is a deprecated alias for the builtin `float`. To silence this warning, use `float` by itself. Doing this will not modify any behavior and is safe. If you specifically wanted the numpy scalar type, use `np.float64` here.\n",
            "Deprecated in NumPy 1.20; for more details and guidance: https://numpy.org/devdocs/release/1.20.0-notes.html#deprecations\n",
            "  y_train = y_train.astype(np.float)\n",
            "<ipython-input-70-92c826b0c764>:9: DeprecationWarning: `np.float` is a deprecated alias for the builtin `float`. To silence this warning, use `float` by itself. Doing this will not modify any behavior and is safe. If you specifically wanted the numpy scalar type, use `np.float64` here.\n",
            "Deprecated in NumPy 1.20; for more details and guidance: https://numpy.org/devdocs/release/1.20.0-notes.html#deprecations\n",
            "  y_test = y_test.astype(np.float)\n"
          ]
        }
      ]
    },
    {
      "cell_type": "code",
      "source": [
        "\"\"\"print(\"X_train:\\n\",X_train)\n",
        "print(\"y_train:\\n\",y_train)\n",
        "print(\"X_test:\\n\",X_test)\n",
        "print(\"y_test:\\n\",y_test)\"\"\""
      ],
      "metadata": {
        "colab": {
          "base_uri": "https://localhost:8080/",
          "height": 35
        },
        "id": "IzWsD5AhVpQe",
        "outputId": "ea3d5169-ec9b-4b0f-e259-6ba039f8dbd8"
      },
      "execution_count": 71,
      "outputs": [
        {
          "output_type": "execute_result",
          "data": {
            "text/plain": [
              "'print(\"X_train:\\n\",X_train)\\nprint(\"y_train:\\n\",y_train)\\nprint(\"X_test:\\n\",X_test)\\nprint(\"y_test:\\n\",y_test)'"
            ],
            "application/vnd.google.colaboratory.intrinsic+json": {
              "type": "string"
            }
          },
          "metadata": {},
          "execution_count": 71
        }
      ]
    },
    {
      "cell_type": "markdown",
      "source": [
        "###Modelo"
      ],
      "metadata": {
        "id": "Iv6YWi3tellY"
      }
    },
    {
      "cell_type": "code",
      "source": [
        "import torch.nn as nn\n",
        "import torch.optim as optim\n",
        "X_train = torch.tensor(X_train.values, dtype=torch.float32)\n",
        "X_test = torch.tensor(X_test.values, dtype=torch.float32)\n",
        "y_train = torch.tensor(y_train.values, dtype=torch.float32).view(-1, 1)\n",
        "y_test = torch.tensor(y_test.values, dtype=torch.float32).view(-1, 1)\n",
        "\n",
        "# Definir un modelo de regresión lineal simple\n",
        "class ComplexRegression(nn.Module):\n",
        "    def __init__(self, input_size):\n",
        "        super(ComplexRegression, self).__init__()\n",
        "        self.fc1 = nn.Linear(input_size, 128)  # Capa oculta con 128 neuronas\n",
        "        self.relu = nn.ReLU ()  # Función de activación ReLU\n",
        "        self.fc2 = nn.Linear(128, 1)  # Capa de salida lineal\n",
        "\n",
        "    def forward(self, x):\n",
        "        x = self.fc1(x)\n",
        "        x = self.relu(x)\n",
        "        x = self.fc2(x)\n",
        "        return x\n",
        "\n",
        "\n",
        "# Crear una instancia del modelo\n",
        "input_size = X_train.shape[1]\n",
        "model = ComplexRegression(input_size)\n",
        "\n",
        "# Definir la función de pérdida (loss)\n",
        "#criterion = nn.MSELoss()  # Error cuadrático medio (Mean Squared Error, MSE)\n",
        "#criterion = nn.MSELoss()  # Error cuadrático medio logarítmico (MSLE)\n",
        "criterion = nn.SmoothL1Loss()  # Error de Huber\n",
        "#criterion = nn.L1Loss()  # Error Absoluto Medio (MAE)\n",
        "\n",
        "# Definir el optimizador\n",
        "optimizer = optim.SGD(model.parameters(), lr=0.001)  # Descenso por el gradiente estocástico (SGD)\n",
        "\n",
        "# Entrenar el modelo\n",
        "num_epochs = 100\n",
        "for epoch in range(num_epochs):\n",
        "    # Forward pass\n",
        "    outputs = model(X_train)\n",
        "    loss = criterion(outputs, y_train.view(-1, 1))  # Asegurarse de que las dimensiones coincidan\n",
        "\n",
        "    # Backward pass y optimización\n",
        "    optimizer.zero_grad()\n",
        "    loss.backward()\n",
        "    optimizer.step()\n",
        "\n",
        "    if (epoch + 1) % 10 == 0:\n",
        "        print(f'Epoch [{epoch+1}/{num_epochs}], Loss: {loss.item():.4f}')\n",
        "\n",
        "# Evaluar el modelo en datos de prueba\n",
        "with torch.no_grad():\n",
        "    y_pred = model(X_test)\n",
        "    test_loss = criterion(y_pred, y_test.view(-1, 1))\n",
        "\n",
        "print(f'Loss en los datos de prueba: {test_loss.item():.4f}')\n"
      ],
      "metadata": {
        "colab": {
          "base_uri": "https://localhost:8080/"
        },
        "id": "wOvcyV2BgS5c",
        "outputId": "c7a7006f-7c60-497e-b298-9081452068b9"
      },
      "execution_count": 72,
      "outputs": [
        {
          "output_type": "stream",
          "name": "stdout",
          "text": [
            "Epoch [10/100], Loss: 87486.5469\n",
            "Epoch [20/100], Loss: 87473.8828\n",
            "Epoch [30/100], Loss: 87459.8438\n",
            "Epoch [40/100], Loss: 87443.4531\n",
            "Epoch [50/100], Loss: 87423.6094\n",
            "Epoch [60/100], Loss: 87398.9531\n",
            "Epoch [70/100], Loss: 87367.7969\n",
            "Epoch [80/100], Loss: 87328.0078\n",
            "Epoch [90/100], Loss: 87276.9062\n",
            "Epoch [100/100], Loss: 87211.0000\n",
            "Loss en los datos de prueba: 85501.4141\n"
          ]
        }
      ]
    },
    {
      "cell_type": "code",
      "source": [
        "#Predicciones en los datos de entrenamiento:\n",
        "with torch.no_grad():\n",
        "    y_pred_train = model(X_train)\n",
        "    test_loss = criterion(y_pred_train, y_train.view(-1, 1))\n",
        "print(f'Loss en los datos de prueba: {test_loss.item():.4f}')\n",
        "#Predicciones en los datos de prueba:\n",
        "with torch.no_grad():\n",
        "    y_pred_test = model(X_test)\n",
        "    test_loss = criterion(y_pred_test, y_test.view(-1, 1))\n",
        "print(f'Loss en los datos de prueba: {test_loss.item():.4f}')"
      ],
      "metadata": {
        "colab": {
          "base_uri": "https://localhost:8080/"
        },
        "id": "zZrGgs9wYj62",
        "outputId": "15c7e13e-6d08-44d2-ee44-a9cdccced45a"
      },
      "execution_count": 73,
      "outputs": [
        {
          "output_type": "stream",
          "name": "stdout",
          "text": [
            "Loss en los datos de prueba: 87203.4141\n",
            "Loss en los datos de prueba: 85501.4141\n"
          ]
        }
      ]
    },
    {
      "cell_type": "code",
      "source": [
        "import numpy as np\n",
        "\n",
        "# Calcular el MAPE\n",
        "y_true = y_test.numpy()\n",
        "y_predi = y_pred.numpy()\n",
        "mape = np.mean(np.abs((y_true - y_predi) / y_true)) * 100\n",
        "\n",
        "print(f'Error Porcentual Absoluto Medio (MAPE): {mape:.2f}%')\n",
        "\n"
      ],
      "metadata": {
        "colab": {
          "base_uri": "https://localhost:8080/"
        },
        "id": "jPuDup28ZQuG",
        "outputId": "e4870c9b-652f-4caa-ec6a-a9004018df81"
      },
      "execution_count": 74,
      "outputs": [
        {
          "output_type": "stream",
          "name": "stdout",
          "text": [
            "Error Porcentual Absoluto Medio (MAPE): 99.59%\n"
          ]
        }
      ]
    }
  ]
}