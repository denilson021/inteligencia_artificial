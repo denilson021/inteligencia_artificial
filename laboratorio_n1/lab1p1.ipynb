{
  "nbformat": 4,
  "nbformat_minor": 0,
  "metadata": {
    "colab": {
      "provenance": []
    },
    "kernelspec": {
      "name": "python3",
      "display_name": "Python 3"
    },
    "language_info": {
      "name": "python"
    }
  },
  "cells": [
    {
      "cell_type": "code",
      "execution_count": 530,
      "metadata": {
        "id": "CxFL98JgYAd9"
      },
      "outputs": [],
      "source": [
        "# utilizado para manejos de directorios y rutas\n",
        "import os\n",
        "\n",
        "# Computacion vectorial y cientifica para python\n",
        "import numpy as np\n",
        "\n",
        "# Librerias para graficación (trazado de gráficos)\n",
        "from matplotlib import pyplot\n",
        "from mpl_toolkits.mplot3d import Axes3D  # Necesario para graficar superficies 3D\n",
        "\n",
        "# llama a matplotlib a embeber graficas dentro de los cuadernillos\n",
        "%matplotlib inline"
      ]
    },
    {
      "cell_type": "code",
      "source": [
        "import pandas as pd\n",
        "from sklearn.preprocessing import LabelEncoder\n",
        "from datetime import datetime"
      ],
      "metadata": {
        "id": "XBH7Qd_-YzP6"
      },
      "execution_count": 531,
      "outputs": []
    },
    {
      "cell_type": "code",
      "source": [
        "#Carga de dataset\n",
        "#data = pd.read_csv('/content/pizza_v1.csv')\n",
        "data = pd.read_csv('pizza_v1.csv')"
      ],
      "metadata": {
        "id": "EZbK81ecZJof"
      },
      "execution_count": 532,
      "outputs": []
    },
    {
      "cell_type": "code",
      "source": [
        "print(data)"
      ],
      "metadata": {
        "id": "lC6x9pU7ZLWv",
        "colab": {
          "base_uri": "https://localhost:8080/"
        },
        "outputId": "b5fd6d14-2e2f-4e74-c830-9b49194b3a45"
      },
      "execution_count": 533,
      "outputs": [
        {
          "output_type": "stream",
          "name": "stdout",
          "text": [
            "    company price_rupiah  diameter      topping           variant     size  \\\n",
            "0         A    Rp235,000      22.0      chicken  double_signature    jumbo   \n",
            "1         A    Rp198,000      20.0    papperoni  double_signature    jumbo   \n",
            "2         A    Rp120,000      16.0    mushrooms  double_signature  reguler   \n",
            "3         A    Rp155,000      14.0  smoked beef  double_signature  reguler   \n",
            "4         A    Rp248,000      18.0   mozzarella  double_signature    jumbo   \n",
            "..      ...          ...       ...          ...               ...      ...   \n",
            "124       E     Rp39,000       8.5         tuna        spicy tuna    small   \n",
            "125       E     Rp72,000      12.0         tuna        spicy tuna   medium   \n",
            "126       E     Rp99,000      14.0         tuna        spicy tuna    large   \n",
            "127       E     Rp44,000       8.5         meat   BBQ_meat_fiesta    small   \n",
            "128       E     Rp78,000      12.0         meat   BBQ_meat_fiesta   medium   \n",
            "\n",
            "    extra_sauce extra_cheese  \n",
            "0           yes          yes  \n",
            "1           yes          yes  \n",
            "2           yes          yes  \n",
            "3           yes           no  \n",
            "4           yes           no  \n",
            "..          ...          ...  \n",
            "124         yes          yes  \n",
            "125         yes          yes  \n",
            "126         yes          yes  \n",
            "127         yes           no  \n",
            "128          no           no  \n",
            "\n",
            "[129 rows x 8 columns]\n"
          ]
        }
      ]
    },
    {
      "cell_type": "code",
      "source": [
        "data.info()"
      ],
      "metadata": {
        "colab": {
          "base_uri": "https://localhost:8080/"
        },
        "id": "1GvLckg-kbdX",
        "outputId": "3bb92da5-b1fa-4e6f-fc0b-38a8f8bae975"
      },
      "execution_count": 534,
      "outputs": [
        {
          "output_type": "stream",
          "name": "stdout",
          "text": [
            "<class 'pandas.core.frame.DataFrame'>\n",
            "RangeIndex: 129 entries, 0 to 128\n",
            "Data columns (total 8 columns):\n",
            " #   Column        Non-Null Count  Dtype  \n",
            "---  ------        --------------  -----  \n",
            " 0   company       129 non-null    object \n",
            " 1   price_rupiah  129 non-null    object \n",
            " 2   diameter      129 non-null    float64\n",
            " 3   topping       129 non-null    object \n",
            " 4   variant       129 non-null    object \n",
            " 5   size          129 non-null    object \n",
            " 6   extra_sauce   129 non-null    object \n",
            " 7   extra_cheese  129 non-null    object \n",
            "dtypes: float64(1), object(7)\n",
            "memory usage: 8.2+ KB\n"
          ]
        }
      ]
    },
    {
      "cell_type": "code",
      "source": [
        "# Supongamos que 'data' es tu DataFrame\n",
        "columna_categorica = 'price_rupiah'\n",
        "columna_numerica = 'price'\n",
        "\n",
        "columnas_eliminar = ['price_rupiah']\n",
        "simbolo = 'Rp'\n",
        "\n",
        "for columna in columnas_eliminar:\n",
        "    data[columna] = data[columna].str.replace(simbolo, '', regex=False)\n",
        "    data[columna_categorica] = data[columna_categorica].str.replace(',', '', regex=False)\n",
        "\n",
        "# Crea una nueva columna numérica y copia los valores de la columna categórica\n",
        "data[columna_numerica] = pd.to_numeric(data[columna_categorica], errors='coerce')\n",
        "\n",
        "# Elimina la columna categórica original\n",
        "data.drop(columna_categorica, axis=1, inplace=True)"
      ],
      "metadata": {
        "id": "mOpp1n48LJhw"
      },
      "execution_count": 535,
      "outputs": []
    },
    {
      "cell_type": "code",
      "source": [
        "data.info()"
      ],
      "metadata": {
        "colab": {
          "base_uri": "https://localhost:8080/"
        },
        "id": "OJaVjQKvLSW5",
        "outputId": "6a343886-c8d7-45de-f276-d2fa5fb7bb67"
      },
      "execution_count": 536,
      "outputs": [
        {
          "output_type": "stream",
          "name": "stdout",
          "text": [
            "<class 'pandas.core.frame.DataFrame'>\n",
            "RangeIndex: 129 entries, 0 to 128\n",
            "Data columns (total 8 columns):\n",
            " #   Column        Non-Null Count  Dtype  \n",
            "---  ------        --------------  -----  \n",
            " 0   company       129 non-null    object \n",
            " 1   diameter      129 non-null    float64\n",
            " 2   topping       129 non-null    object \n",
            " 3   variant       129 non-null    object \n",
            " 4   size          129 non-null    object \n",
            " 5   extra_sauce   129 non-null    object \n",
            " 6   extra_cheese  129 non-null    object \n",
            " 7   price         129 non-null    int64  \n",
            "dtypes: float64(1), int64(1), object(6)\n",
            "memory usage: 8.2+ KB\n"
          ]
        }
      ]
    },
    {
      "cell_type": "code",
      "source": [
        "#variables categoricas\n",
        "columnas_categoricas = data.select_dtypes(include=['object']).columns\n",
        "#variables fechas\n",
        "columnas_fechas = data.select_dtypes(include=['datetime64']).columns"
      ],
      "metadata": {
        "id": "vvROs2URQMtX"
      },
      "execution_count": 537,
      "outputs": []
    },
    {
      "cell_type": "code",
      "source": [
        "#Procesamiento de frases o palabras\n",
        "for columna in columnas_categoricas:\n",
        "  le = LabelEncoder()\n",
        "  data[columna] = le.fit_transform(data[columna])\n",
        "\n",
        "#Fechas a numeros\n",
        "for columna in columnas_fechas:\n",
        "  data[columna] = pd.to_numeric(data[columna].map(datetime.timestamp))"
      ],
      "metadata": {
        "id": "_d7eA9zyQMzY"
      },
      "execution_count": 538,
      "outputs": []
    },
    {
      "cell_type": "code",
      "source": [
        "#resultado\n",
        "print(data)"
      ],
      "metadata": {
        "colab": {
          "base_uri": "https://localhost:8080/"
        },
        "id": "NjNUNf1DRqmf",
        "outputId": "728ed09e-5e38-4994-caa2-dfb9af7f96ef"
      },
      "execution_count": 539,
      "outputs": [
        {
          "output_type": "stream",
          "name": "stdout",
          "text": [
            "     company  diameter  topping  variant  size  extra_sauce  extra_cheese  \\\n",
            "0          0      22.0        2        8     1            1             1   \n",
            "1          0      20.0        7        8     1            1             1   \n",
            "2          0      16.0        5        8     4            1             1   \n",
            "3          0      14.0        9        8     4            1             0   \n",
            "4          0      18.0        4        8     1            1             0   \n",
            "..       ...       ...      ...      ...   ...          ...           ...   \n",
            "124        4       8.5       10       16     5            1             1   \n",
            "125        4      12.0       10       16     3            1             1   \n",
            "126        4      14.0       10       16     2            1             1   \n",
            "127        4       8.5        3        0     5            1             0   \n",
            "128        4      12.0        3        0     3            0             0   \n",
            "\n",
            "      price  \n",
            "0    235000  \n",
            "1    198000  \n",
            "2    120000  \n",
            "3    155000  \n",
            "4    248000  \n",
            "..      ...  \n",
            "124   39000  \n",
            "125   72000  \n",
            "126   99000  \n",
            "127   44000  \n",
            "128   78000  \n",
            "\n",
            "[129 rows x 8 columns]\n"
          ]
        }
      ]
    },
    {
      "cell_type": "code",
      "source": [
        "data.info()"
      ],
      "metadata": {
        "colab": {
          "base_uri": "https://localhost:8080/"
        },
        "id": "xZUk-f9hSwg4",
        "outputId": "14eaeccb-bd38-49da-e8e3-b760d4b73ce4"
      },
      "execution_count": 540,
      "outputs": [
        {
          "output_type": "stream",
          "name": "stdout",
          "text": [
            "<class 'pandas.core.frame.DataFrame'>\n",
            "RangeIndex: 129 entries, 0 to 128\n",
            "Data columns (total 8 columns):\n",
            " #   Column        Non-Null Count  Dtype  \n",
            "---  ------        --------------  -----  \n",
            " 0   company       129 non-null    int64  \n",
            " 1   diameter      129 non-null    float64\n",
            " 2   topping       129 non-null    int64  \n",
            " 3   variant       129 non-null    int64  \n",
            " 4   size          129 non-null    int64  \n",
            " 5   extra_sauce   129 non-null    int64  \n",
            " 6   extra_cheese  129 non-null    int64  \n",
            " 7   price         129 non-null    int64  \n",
            "dtypes: float64(1), int64(7)\n",
            "memory usage: 8.2 KB\n"
          ]
        }
      ]
    },
    {
      "cell_type": "code",
      "source": [
        "# Lectura de Datos\n",
        "X = data.iloc[:, :7]\n",
        "y = data.iloc[:, 7]\n",
        "m = y.size"
      ],
      "metadata": {
        "id": "VZrSv7kvRSeW"
      },
      "execution_count": 541,
      "outputs": []
    },
    {
      "cell_type": "code",
      "source": [
        "print(X)\n",
        "print('*'*25)\n",
        "print(y)"
      ],
      "metadata": {
        "colab": {
          "base_uri": "https://localhost:8080/"
        },
        "id": "6mL2Se3tSio3",
        "outputId": "be4a597e-cb15-499c-d507-559d198cc94a"
      },
      "execution_count": 542,
      "outputs": [
        {
          "output_type": "stream",
          "name": "stdout",
          "text": [
            "     company  diameter  topping  variant  size  extra_sauce  extra_cheese\n",
            "0          0      22.0        2        8     1            1             1\n",
            "1          0      20.0        7        8     1            1             1\n",
            "2          0      16.0        5        8     4            1             1\n",
            "3          0      14.0        9        8     4            1             0\n",
            "4          0      18.0        4        8     1            1             0\n",
            "..       ...       ...      ...      ...   ...          ...           ...\n",
            "124        4       8.5       10       16     5            1             1\n",
            "125        4      12.0       10       16     3            1             1\n",
            "126        4      14.0       10       16     2            1             1\n",
            "127        4       8.5        3        0     5            1             0\n",
            "128        4      12.0        3        0     3            0             0\n",
            "\n",
            "[129 rows x 7 columns]\n",
            "*************************\n",
            "0      235000\n",
            "1      198000\n",
            "2      120000\n",
            "3      155000\n",
            "4      248000\n",
            "        ...  \n",
            "124     39000\n",
            "125     72000\n",
            "126     99000\n",
            "127     44000\n",
            "128     78000\n",
            "Name: price, Length: 129, dtype: int64\n"
          ]
        }
      ]
    },
    {
      "cell_type": "code",
      "source": [
        "def  featureNormalize(X):\n",
        "#Crea una copia de la matriz de entrada X y la asigna a una nueva variable llamada X_norm.\n",
        "    X_norm = X.copy()\n",
        "#Inicializa una matriz de ceros con el mismo\n",
        "#número de columnas que X y la asigna a una nueva variable llamada mu.\n",
        "#shape[0], represents the number of rows, while the second element, shape[1], represents the number of column\n",
        "    mu = np.zeros(X.shape[1])\n",
        "#Inicializa una matriz de ceros con el mismo número de columnas que X y la asigna a una nueva variable llamada sigma.\n",
        "    sigma = np.zeros(X.shape[1])\n",
        "#Calcula la media de cada columna de X y asigna el resultado a la variable mu.\n",
        "    mu = np.mean(X, axis = 0)\n",
        "#Calcula la desviación estándar de cada columna de X y asigna el resultado a la variable sigma.\n",
        "    sigma = np.std(X, axis = 0)\n",
        "#Resta la media de cada columna de los valores correspondientes en esa columna, divide el resultado por la desviación estándar de esa columna y asigna el resultado a la variable X_norm.\n",
        "    X_norm = (X - mu) / sigma\n",
        "#Devuelve la matriz normalizada, junto con la media y la desviación estándar de cada columna.\n",
        "    return X_norm, mu, sigma"
      ],
      "metadata": {
        "id": "DrrFytt2gkI8"
      },
      "execution_count": 543,
      "outputs": []
    },
    {
      "cell_type": "markdown",
      "source": [
        "La función featureNormalize normaliza las características de los datos en X restando la media y dividiendo por la desviación estándar de cada columna. La función devuelve tres valores: la matriz normalizada X_norm, la media mu y la desviación estándar sigma de cada columna de X."
      ],
      "metadata": {
        "id": "ppS6vxGeag2H"
      }
    },
    {
      "cell_type": "code",
      "source": [
        "# llama featureNormalize con los datos cargados en X como argumento\n",
        "X_norm, mu, sigma = featureNormalize(X)\n",
        "#Después de llamar a la función, el código imprime los valores de X, mu, sigma y X_norm. Esto muestra los datos originales en X, la media\n",
        "#y desviación estándar calculadas por la función, y los datos normalizados en X_norm.\n",
        "print(X)\n",
        "print('Media calculada:', mu)\n",
        "print('Desviación estandar calculada:', sigma)\n",
        "print(X_norm)\n",
        "\n"
      ],
      "metadata": {
        "colab": {
          "base_uri": "https://localhost:8080/"
        },
        "id": "MhHhItqc4YLy",
        "outputId": "244d334d-e426-4035-845c-601394c245fc"
      },
      "execution_count": 544,
      "outputs": [
        {
          "output_type": "stream",
          "name": "stdout",
          "text": [
            "     company  diameter  topping  variant  size  extra_sauce  extra_cheese\n",
            "0          0      22.0        2        8     1            1             1\n",
            "1          0      20.0        7        8     1            1             1\n",
            "2          0      16.0        5        8     4            1             1\n",
            "3          0      14.0        9        8     4            1             0\n",
            "4          0      18.0        4        8     1            1             0\n",
            "..       ...       ...      ...      ...   ...          ...           ...\n",
            "124        4       8.5       10       16     5            1             1\n",
            "125        4      12.0       10       16     3            1             1\n",
            "126        4      14.0       10       16     2            1             1\n",
            "127        4       8.5        3        0     5            1             0\n",
            "128        4      12.0        3        0     3            0             0\n",
            "\n",
            "[129 rows x 7 columns]\n",
            "Media calculada: company          2.046512\n",
            "diameter        12.976744\n",
            "topping          5.294574\n",
            "variant          8.155039\n",
            "size             2.868217\n",
            "extra_sauce      0.589147\n",
            "extra_cheese     0.666667\n",
            "dtype: float64\n",
            "Desviación estandar calculada: company         1.429807\n",
            "diameter        3.259964\n",
            "topping         3.192538\n",
            "variant         5.245078\n",
            "size            1.464727\n",
            "extra_sauce     0.491989\n",
            "extra_cheese    0.471405\n",
            "dtype: float64\n",
            "     company  diameter   topping   variant      size  extra_sauce  \\\n",
            "0   -1.43132  2.767900 -1.031961 -0.029559 -1.275472     0.835086   \n",
            "1   -1.43132  2.154397  0.534191 -0.029559 -1.275472     0.835086   \n",
            "2   -1.43132  0.927389 -0.092269 -0.029559  0.772692     0.835086   \n",
            "3   -1.43132  0.313886  1.160652 -0.029559  0.772692     0.835086   \n",
            "4   -1.43132  1.540893 -0.405500 -0.029559 -1.275472     0.835086   \n",
            "..       ...       ...       ...       ...       ...          ...   \n",
            "124  1.36626 -1.373250  1.473883  1.495680  1.455414     0.835086   \n",
            "125  1.36626 -0.299618  1.473883  1.495680  0.089971     0.835086   \n",
            "126  1.36626  0.313886  1.473883  1.495680 -0.592750     0.835086   \n",
            "127  1.36626 -1.373250 -0.718730 -1.554798  1.455414     0.835086   \n",
            "128  1.36626 -0.299618 -0.718730 -1.554798  0.089971    -1.197482   \n",
            "\n",
            "     extra_cheese  \n",
            "0        0.707107  \n",
            "1        0.707107  \n",
            "2        0.707107  \n",
            "3       -1.414214  \n",
            "4       -1.414214  \n",
            "..            ...  \n",
            "124      0.707107  \n",
            "125      0.707107  \n",
            "126      0.707107  \n",
            "127     -1.414214  \n",
            "128     -1.414214  \n",
            "\n",
            "[129 rows x 7 columns]\n"
          ]
        }
      ]
    },
    {
      "cell_type": "code",
      "source": [
        "# Añade el termino de interseccion a X\n",
        "# (Columna de unos para X0)\n",
        "X = np.concatenate([np.ones((m, 1)), X_norm], axis=1)"
      ],
      "metadata": {
        "id": "hH3CK99njtzj"
      },
      "execution_count": 545,
      "outputs": []
    },
    {
      "cell_type": "code",
      "source": [
        "print(X)\n",
        "print(len(X))"
      ],
      "metadata": {
        "colab": {
          "base_uri": "https://localhost:8080/"
        },
        "id": "Zb2VycMYjxMa",
        "outputId": "7b4b5bbe-103d-4b91-e7cc-e4703e6622ee"
      },
      "execution_count": 546,
      "outputs": [
        {
          "output_type": "stream",
          "name": "stdout",
          "text": [
            "[[ 1.         -1.43132011  2.76790034 ... -1.27547153  0.83508588\n",
            "   0.70710678]\n",
            " [ 1.         -1.43132011  2.15439665 ... -1.27547153  0.83508588\n",
            "   0.70710678]\n",
            " [ 1.         -1.43132011  0.92738929 ...  0.7726923   0.83508588\n",
            "   0.70710678]\n",
            " ...\n",
            " [ 1.          1.3662601   0.31388561 ... -0.59275026  0.83508588\n",
            "   0.70710678]\n",
            " [ 1.          1.3662601  -1.37324952 ...  1.45541357  0.83508588\n",
            "  -1.41421356]\n",
            " [ 1.          1.3662601  -0.29961808 ...  0.08997102 -1.19748163\n",
            "  -1.41421356]]\n",
            "129\n"
          ]
        }
      ]
    },
    {
      "cell_type": "code",
      "source": [
        "def computeCostMulti(X, y, theta):\n",
        "    # Inicializa algunos valores utiles\n",
        "    m = y.shape[0] # numero de ejemplos de entrenamiento\n",
        "\n",
        "    J = 0\n",
        "\n",
        "    h = np.dot(X, theta)\n",
        "\n",
        "    J = (1/(2 * m)) * np.sum(np.square(np.dot(X, theta) - y))\n",
        "\n",
        "    return J\n"
      ],
      "metadata": {
        "id": "n5rIkUT24vOu"
      },
      "execution_count": 547,
      "outputs": []
    },
    {
      "cell_type": "code",
      "source": [
        "def gradientDescentMulti(X, y, theta, alpha, num_iters):\n",
        "\n",
        "    # Inicializa algunos valores\n",
        "    m = y.shape[0] # numero de ejemplos de entrenamiento\n",
        "\n",
        "    # realiza una copia de theta, el cual será acutalizada por el descenso por el gradiente\n",
        "    theta = theta.copy()\n",
        "\n",
        "    J_history = []\n",
        "\n",
        "    for i in range(num_iters):\n",
        "        theta = theta - (alpha / m) * (np.dot(X, theta) - y).dot(X)\n",
        "        J_history.append(computeCostMulti(X, y, theta))\n",
        "\n",
        "    return theta, J_history"
      ],
      "metadata": {
        "id": "CI0ti0jq4y4W"
      },
      "execution_count": 548,
      "outputs": []
    },
    {
      "cell_type": "code",
      "source": [
        "# Elegir algun valor para alpha (probar varias alternativas)\n",
        "alpha = 0.001\n",
        "num_iters = 4000\n",
        "\n",
        "# inicializa theta y ejecuta el descenso por el gradiente\n",
        "theta = np.zeros(8)\n",
        "theta, J_history = gradientDescentMulti(X, y, theta, alpha, num_iters)\n",
        "\n",
        "# Grafica la convergencia del costo\n",
        "pyplot.plot(np.arange(len(J_history)), J_history, lw=2)\n",
        "pyplot.xlabel('Numero de iteraciones')\n",
        "pyplot.ylabel('Costo J')\n",
        "\n",
        "# Muestra los resultados del descenso por el gradiente\n",
        "print('theta calculado por el descenso por el gradiente: {:s}'.format(str(theta)))\n",
        "\n",
        "# Estimar el precio para un smart watch con distintas caracteristicas\n",
        "X_array = [1,1, 15.0, 5, 8,5 ,1 , 1]\n",
        "#X_array[1:8] = (X_array[1:8] - mu) / sigma\n",
        "X_array[1:8] = (X_array[1:8] - mu[:7]) / sigma[:7]\n",
        "#price = np.dot(X_array, theta)   # Se debe cambiar esto\n",
        "price = np.dot(X_array[:8], theta[:8])  # Se debe cambiar esto\n",
        "print('El valor predecido es (usando el descenso por el gradiente): {:.4f}'.format(price))"
      ],
      "metadata": {
        "colab": {
          "base_uri": "https://localhost:8080/",
          "height": 537
        },
        "id": "4-LTvs7x4y9s",
        "outputId": "735ec15f-5fbb-4fa8-ab08-a5acd14e79bf"
      },
      "execution_count": 549,
      "outputs": [
        {
          "output_type": "stream",
          "name": "stdout",
          "text": [
            "theta calculado por el descenso por el gradiente: [85558.12495806 -7726.7629445  32211.32959401  2378.35168507\n",
            " -1824.99654244 -2065.80025214  5970.57694456  -430.73695076]\n",
            "El valor predecido es (usando el descenso por el gradiente): 112714.3631\n"
          ]
        },
        {
          "output_type": "display_data",
          "data": {
            "text/plain": [
              "<Figure size 640x480 with 1 Axes>"
            ],
            "image/png": "[encoded data removed]"
          },
          "metadata": {}
        }
      ]
    },
    {
      "cell_type": "code",
      "source": [
        "X_array = [1,1, 15.0, 5, 8,5 ,1 , 1]\n",
        "X_array[1:8] = (X_array[1:8] -mu[:7]) / sigma[:7]"
      ],
      "metadata": {
        "id": "7y6Grd2144IN"
      },
      "execution_count": 551,
      "outputs": []
    },
    {
      "cell_type": "code",
      "source": [
        "X_array[1:8]"
      ],
      "metadata": {
        "colab": {
          "base_uri": "https://localhost:8080/"
        },
        "id": "DDzzt_y-45iG",
        "outputId": "147665e8-13fe-4f6f-b601-b8cbfcc0c823"
      },
      "execution_count": 552,
      "outputs": [
        {
          "output_type": "execute_result",
          "data": {
            "text/plain": [
              "[-0.7319250547113999,\n",
              " 0.6206374462555869,\n",
              " -0.09226943675658465,\n",
              " -0.029558902630266178,\n",
              " 1.4554135737523912,\n",
              " 0.835085876453812,\n",
              " 0.7071067811865476]"
            ]
          },
          "metadata": {},
          "execution_count": 552
        }
      ]
    },
    {
      "cell_type": "code",
      "source": [
        "def normalEqn(X, y):\n",
        "\n",
        "    theta = np.zeros(X.shape[1])\n",
        "\n",
        "    theta = np.dot(np.dot(np.linalg.inv(np.dot(X.T,X)),X.T),y)\n",
        "\n",
        "    return theta"
      ],
      "metadata": {
        "id": "iPHSOq_Z48Il"
      },
      "execution_count": 553,
      "outputs": []
    },
    {
      "cell_type": "code",
      "source": [
        "# Calcula los parametros con la ecuación de la normal\n",
        "theta = normalEqn(X, y);\n",
        "\n",
        "# Muestra los resultados optenidos a partir de la aplicación de la ecuación de la normal\n",
        "print('Theta calculado a partir de la ecuación de la normal: {:s}'.format(str(theta)));\n",
        "\n",
        "\n",
        "X_array = [1,1, 15.0, 5, 8,5 ,1 , 1]\n",
        "price = np.dot(X_array, theta)\n",
        "\n",
        "print('Precio predecido para una cada de una pizza de 15 diametro : ${:.0f}'.format(price))"
      ],
      "metadata": {
        "colab": {
          "base_uri": "https://localhost:8080/"
        },
        "id": "WoUufl5x4_Je",
        "outputId": "8d1eacd4-a6ed-462d-a1c6-0731e835deb7"
      },
      "execution_count": 556,
      "outputs": [
        {
          "output_type": "stream",
          "name": "stdout",
          "text": [
            "Theta calculado a partir de la ecuación de la normal: [87151.1627907  -4392.18147602 51290.7347671   3376.91541921\n",
            " -1130.44768195 17077.07985211  2848.72456125   474.91743267]\n",
            "Precio predecido para una cada de una pizza de 15 diametro : $948670\n"
          ]
        }
      ]
    }
  ]
}